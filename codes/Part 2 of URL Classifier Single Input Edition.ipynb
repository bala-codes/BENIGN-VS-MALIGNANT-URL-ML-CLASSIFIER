{
  "nbformat": 4,
  "nbformat_minor": 0,
  "metadata": {
    "colab": {
      "name": "Part 2 of Url Classifier - Single Input Edition.ipynb",
      "provenance": [],
      "collapsed_sections": [],
      "include_colab_link": true
    },
    "kernelspec": {
      "name": "python3",
      "display_name": "Python 3"
    },
    "accelerator": "GPU"
  },
  "cells": [
    {
      "cell_type": "markdown",
      "metadata": {
        "id": "view-in-github",
        "colab_type": "text"
      },
      "source": [
        "<a href=\"https://colab.research.google.com/github/bala-codes/BENIGN-VS-MALIGNANT-URL-ML-CLASSIFIER/blob/master/codes/Part%202%20of%20URL%20Classifier%20Single%20Input%20Edition.ipynb\" target=\"_parent\"><img src=\"https://colab.research.google.com/assets/colab-badge.svg\" alt=\"Open In Colab\"/></a>"
      ]
    },
    {
      "cell_type": "code",
      "metadata": {
        "id": "iArv-2OPT9Ft",
        "colab_type": "code",
        "colab": {
          "base_uri": "https://localhost:8080/",
          "height": 125
        },
        "outputId": "47c6ac39-68bc-4600-e339-1e6898103eba"
      },
      "source": [
        "# IF YOU ARE USING GOOGLE COLABORATORY AND IF YOUR DATA IS STORED IN GOOGLE DRIVE, THEN RUN THIS CODE OTHERWISE DON'T EXECUTE\n",
        "\n",
        "from google.colab import drive\n",
        "drive.mount('/content/gdrive')"
      ],
      "execution_count": null,
      "outputs": [
        {
          "output_type": "stream",
          "text": [
            "Go to this URL in a browser: https://accounts.google.com/o/oauth2/auth?client_id=947318989803-6bn6qk8qdgf4n4g3pfee6491hc0brc4i.apps.googleusercontent.com&redirect_uri=urn%3Aietf%3Awg%3Aoauth%3A2.0%3Aoob&scope=email%20https%3A%2F%2Fwww.googleapis.com%2Fauth%2Fdocs.test%20https%3A%2F%2Fwww.googleapis.com%2Fauth%2Fdrive%20https%3A%2F%2Fwww.googleapis.com%2Fauth%2Fdrive.photos.readonly%20https%3A%2F%2Fwww.googleapis.com%2Fauth%2Fpeopleapi.readonly&response_type=code\n",
            "\n",
            "Enter your authorization code:\n",
            "··········\n",
            "Mounted at /content/gdrive\n"
          ],
          "name": "stdout"
        }
      ]
    },
    {
      "cell_type": "code",
      "metadata": {
        "id": "a7DFP7E9H8FX",
        "colab_type": "code",
        "colab": {}
      },
      "source": [
        "import pickle\n",
        "import re\n",
        "import numpy as np\n",
        "import matplotlib.pyplot as plt\n",
        "plt.style.use('ggplot')"
      ],
      "execution_count": null,
      "outputs": []
    },
    {
      "cell_type": "code",
      "metadata": {
        "id": "X5meDk8HUH_b",
        "colab_type": "code",
        "colab": {
          "base_uri": "https://localhost:8080/",
          "height": 34
        },
        "outputId": "df91e6aa-9801-468b-da2a-76ceff1c07e0"
      },
      "source": [
        "with open(\"/content/gdrive/My Drive/Machine Learning Projects/BENIGN VS MALIGNANT URL CLASSIFIER/Pre-Trained Models/logreg_classifier.pkl\",\"rb\") as fin:\n",
        "  vectorizer, logreg_classifier = pickle.load(fin)\n",
        "\n",
        "with open(\"/content/gdrive/My Drive/Machine Learning Projects/BENIGN VS MALIGNANT URL CLASSIFIER/Pre-Trained Models/nb_classifier.pkl\",\"rb\") as fin:\n",
        "  vectorizer, nb_classifier = pickle.load(fin)\n",
        "\n",
        "with open(\"/content/gdrive/My Drive/Machine Learning Projects/BENIGN VS MALIGNANT URL CLASSIFIER/Pre-Trained Models/bb_classifier.pkl\",\"rb\") as fin:\n",
        "  vectorizer, bb_classifier = pickle.load(fin)\n",
        " \n",
        "with open(\"/content/gdrive/My Drive/Machine Learning Projects/BENIGN VS MALIGNANT URL CLASSIFIER/Pre-Trained Models/svc_classifier.pkl\",\"rb\") as fin:\n",
        "  vectorizer, svc_classifier = pickle.load(fin)\n",
        "\n",
        "with open(\"/content/gdrive/My Drive/Machine Learning Projects/BENIGN VS MALIGNANT URL CLASSIFIER/Pre-Trained Models/pac_classifier.pkl\",\"rb\") as fin:\n",
        "  vectorizer, pac_classifier = pickle.load(fin)\n",
        " \n",
        "with open(\"/content/gdrive/My Drive/Machine Learning Projects/BENIGN VS MALIGNANT URL CLASSIFIER/Pre-Trained Models/calibrator_classifier.pkl\",\"rb\") as fin:\n",
        "  vectorizer, calibrator_classifier = pickle.load(fin)\n",
        "\n",
        "with open(\"/content/gdrive/My Drive/Machine Learning Projects/BENIGN VS MALIGNANT URL CLASSIFIER/Pre-Trained Models/knn_classifier.pkl\",\"rb\") as fin:\n",
        "  vectorizer, knn_classifier = pickle.load(fin)\n",
        "\n",
        "print(\"SUCCESS ~ ALL MODELS LOADED\")"
      ],
      "execution_count": null,
      "outputs": [
        {
          "output_type": "stream",
          "text": [
            "SUCCESS ~ ALL MODELS LOADED\n"
          ],
          "name": "stdout"
        }
      ]
    },
    {
      "cell_type": "code",
      "metadata": {
        "id": "C-klp1dYF4xQ",
        "colab_type": "code",
        "colab": {}
      },
      "source": [
        "# Required Functions to predict the News\n",
        "def prediction(text):\n",
        "  test = vectorizer.transform(text)\n",
        "  graph,output = ensemble(test)\n",
        "\n",
        "  if output == 1:\n",
        "    value = 'GOOD'\n",
        "  else:\n",
        "    value = 'BAD'\n",
        "\n",
        "  class_labels = ['BAD','GOOD']\n",
        "  j = [graph[0][0],graph[0][1]]\n",
        "  y_pos = np.arange(len(class_labels))\n",
        "  plt.barh(y_pos,j)\n",
        "  plt.yticks(y_pos,class_labels)\n",
        "  print()\n",
        "  plt.title('PREDICTION FOR BEING BAD VS GOOD')\n",
        "  plt.ylabel('Percentage')\n",
        "  plt.xlabel('Labels')\n",
        "  plt.show()\n",
        "  print()\n",
        "  start = \"\\033[1m\"\n",
        "  end = \"\\033[0;0m\"\n",
        "  print('THE GIVEN URL IS ' + start + str(value) + end)\n",
        "\n",
        "def ensemble(x):\n",
        "  pred1 = logreg_classifier.predict_proba(x)\n",
        "  pred2 = nb_classifier.predict_proba(x)\n",
        "  pred3 = svc_classifier._predict_proba_lr(x)\n",
        "  pred4 = pac_classifier._predict_proba_lr(x)\n",
        "  pred5 = calibrator_classifier.predict_proba(x)\n",
        "  pred6 = knn_classifier.predict_proba(x)\n",
        "  pred7 = bb_classifier.predict_proba(x)\n",
        "\n",
        "  test_pred_prob = np.mean([pred1, pred2, pred3, pred4, pred5, pred6, pred7], axis=0)\n",
        "  pred = np.argmax(test_pred_prob, axis=1)\n",
        "  print(test_pred_prob)\n",
        "  return test_pred_prob,pred\n",
        "\n",
        "def text_cleaner(text):\n",
        "  s = re.sub(r\"['!#$%&\\'()*+,-./:;<=>?@//\\\\^_`{|}~']\",' ',text)\n",
        "  return s\n",
        "\n",
        "def cleaner(text):\n",
        "  Segments = text.rpartition('//')\n",
        "  x = Segments[2]\n",
        "  x = text_cleaner(x)\n",
        "  x=[x,]\n",
        "  return x\n"
      ],
      "execution_count": null,
      "outputs": []
    },
    {
      "cell_type": "markdown",
      "metadata": {
        "id": "2ro5Wj8KB-X_",
        "colab_type": "text"
      },
      "source": [
        "# GIVE YOUR INPUT HERE"
      ]
    },
    {
      "cell_type": "code",
      "metadata": {
        "id": "TFyanqQxVZTW",
        "colab_type": "code",
        "colab": {
          "base_uri": "https://localhost:8080/",
          "height": 387
        },
        "outputId": "508c0fa2-f7a1-4c91-c14a-175abe32d95f"
      },
      "source": [
        "#String input\n",
        "URL = input(\"ENTER THE URL HERE : \")\n",
        "prediction(cleaner(URL))"
      ],
      "execution_count": null,
      "outputs": [
        {
          "output_type": "stream",
          "text": [
            "ENTER THE URL HERE : https://link.springer.com/referenceworkentry/10.1007%2F978-0-387-39940-9_465\n",
            "[[0.16484781 0.83515219]]\n",
            "\n"
          ],
          "name": "stdout"
        },
        {
          "output_type": "display_data",
          "data": {
            "image/png": "[encoded data removed]",
            "text/plain": [
              "<Figure size 432x288 with 1 Axes>"
            ]
          },
          "metadata": {
            "tags": []
          }
        },
        {
          "output_type": "stream",
          "text": [
            "\n",
            "THE GIVEN URL IS \u001b[1mGOOD\u001b[0;0m\n"
          ],
          "name": "stdout"
        }
      ]
    },
    {
      "cell_type": "code",
      "metadata": {
        "id": "k0_nHsZIb2UI",
        "colab_type": "code",
        "colab": {}
      },
      "source": [
        ""
      ],
      "execution_count": null,
      "outputs": []
    }
  ]
}